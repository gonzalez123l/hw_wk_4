{
 "cells": [
  {
   "cell_type": "markdown",
   "metadata": {},
   "source": [
    "# Memoization & Dynamic Programming \n",
    "\n",
    "### Topics to discuss today:\n",
    "\n",
    "<ul>\n",
    "    <li>Time and Space Complexity  of recursive fibonnaci</li>\n",
    "    <li>The fibonacci Tree</li>\n",
    "    <li>storing solutions to sub problems</li>\n",
    "    <li>solving popular problems</li>\n",
    "</ul>\n",
    "<br><br><br><br>"
   ]
  },
  {
   "cell_type": "markdown",
   "metadata": {},
   "source": [
    "### The Fibonacci sequence"
   ]
  },
  {
   "cell_type": "code",
   "execution_count": 1,
   "metadata": {},
   "outputs": [
    {
     "name": "stdout",
     "output_type": "stream",
     "text": [
      "21\n"
     ]
    }
   ],
   "source": [
    "# Write out a function to find the nth number in the fibonnaci sequence\n",
    "# each number is the sum of the previous two numbers\n",
    "def fib(n):\n",
    "    if n <= 2:\n",
    "        return 1\n",
    "    else:\n",
    "        return fib(n-1) + fib(n-2)\n",
    "print(fib(8))\n",
    "\n",
    "# 0,1,1,2,3,5,8,13,21,34,55,89,144,233,377,610"
   ]
  },
  {
   "cell_type": "code",
   "execution_count": 2,
   "metadata": {},
   "outputs": [
    {
     "name": "stdout",
     "output_type": "stream",
     "text": [
      "21\n"
     ]
    }
   ],
   "source": [
    "def fib(n):\n",
    "    if n <= 1:\n",
    "        return n\n",
    "    else:\n",
    "        return fib(n-1) +fib(n-2)\n",
    "print(fib(8))"
   ]
  },
  {
   "cell_type": "code",
   "execution_count": 4,
   "metadata": {},
   "outputs": [
    {
     "data": {
      "text/plain": [
       "1"
      ]
     },
     "execution_count": 4,
     "metadata": {},
     "output_type": "execute_result"
    }
   ],
   "source": [
    "#Dealing with Time space and recursion\n",
    "def dib(n):\n",
    "    if n <= 1:\n",
    "        return 1\n",
    "    else:\n",
    "        return dib(n-1) #extra call on the stack each time O(n) linear\n",
    "dib(1000)"
   ]
  },
  {
   "cell_type": "code",
   "execution_count": null,
   "metadata": {},
   "outputs": [],
   "source": [
    "def nacc(n):\n",
    "    ndict = {1:0,2:1,3:1}\n",
    "    for in in range(3)"
   ]
  },
  {
   "cell_type": "markdown",
   "metadata": {},
   "source": [
    "Calculating the time space complexity of the Fibbonacci sequence\n"
   ]
  },
  {
   "cell_type": "markdown",
   "metadata": {},
   "source": [
    "## Trees"
   ]
  },
  {
   "cell_type": "markdown",
   "metadata": {},
   "source": [
    "the fibonacci sequence can be visualized using a tree structure. Lets look at the elements of a tree before discussing the fibonnaci tree:\n",
    "\n",
    "<img src=\"https://www.tutorialspoint.com/data_structures_algorithms/images/binary_tree.jpg\" style=\"height:400px;\">"
   ]
  },
  {
   "cell_type": "markdown",
   "metadata": {},
   "source": [
    "Let's look at the fibonnaci tree:\n",
    "\n",
    "<img src=\"data:image/jpeg;base64,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\" style=\"height:200px;\">"
   ]
  },
  {
   "cell_type": "markdown",
   "metadata": {},
   "source": [
    "## Memoization\n",
    "\n",
    "#### What is it?\n",
    "\n",
    "In computing, memoization or memoisation is an optimization technique used primarily to speed up computer programs by storing the results of expensive function calls and returning the cached result when the same inputs occur again. Memoization has also been used in other contexts (and for purposes other than speed gains), such as in simple mutually recursive descent parsing.\n",
    "\n",
    "#### When should we use it?\n",
    "\n",
    "Some problems are largely made of <b>overlapping subproblems</b>. When we find our code is solving the same problem multiple times over it's a good idea to store them so we don't have to recompute those solutions. This is known as Dynamic Programming "
   ]
  },
  {
   "cell_type": "code",
   "execution_count": 5,
   "metadata": {},
   "outputs": [
    {
     "data": {
      "text/plain": [
       "12586269025"
      ]
     },
     "execution_count": 5,
     "metadata": {},
     "output_type": "execute_result"
    }
   ],
   "source": [
    "#The super power of Dictionaries\n",
    "def fib(n, cache = {}):\n",
    "    if n in cache:\n",
    "        return cache[n]\n",
    "    if n <= 1:\n",
    "        return n\n",
    "    else:\n",
    "        cache[n] = fib(n-1) + fib(n-2)\n",
    "        return cache[n]\n",
    "fib(50)"
   ]
  },
  {
   "cell_type": "markdown",
   "metadata": {},
   "source": [
    "## Decorators"
   ]
  },
  {
   "cell_type": "markdown",
   "metadata": {},
   "source": [
    "<p>A Decorator in Python is a function that takes another function that as an argument, and returns a 3rd function. Decorators are extremely useful as they allow the extenson of an existing function, without any of the original source code.</p>"
   ]
  },
  {
   "cell_type": "code",
   "execution_count": 8,
   "metadata": {},
   "outputs": [
    {
     "data": {
      "text/plain": [
       "'HELLO FROM CODING TEMPLE'"
      ]
     },
     "execution_count": 8,
     "metadata": {},
     "output_type": "execute_result"
    }
   ],
   "source": [
    "#Decorator Syntax\n",
    "\n",
    "def print_hello():\n",
    "    return \"Hello from Coding Temple\"\n",
    "\n",
    "def uppercase_decorator(function):\n",
    "    def wrapper():\n",
    "        func = function()\n",
    "        make_uppercase = func.upper()\n",
    "        return make_uppercase\n",
    "    return wrapper\n",
    "\n",
    "return_func = uppercase_decorator(print_hello)\n",
    "return_func()\n",
    "\n"
   ]
  },
  {
   "cell_type": "code",
   "execution_count": 15,
   "metadata": {},
   "outputs": [],
   "source": [
    "#Decorator Syntax\n",
    "@uppercase_decorator\n",
    "def say_hello():\n",
    "    return \"Hello There\"\n",
    "\n",
    "@uppercase_decorator\n",
    "def say_hello2():\n",
    "    return \"goodbye there\""
   ]
  },
  {
   "cell_type": "code",
   "execution_count": 11,
   "metadata": {},
   "outputs": [
    {
     "data": {
      "text/plain": [
       "'HELLO THERE'"
      ]
     },
     "execution_count": 11,
     "metadata": {},
     "output_type": "execute_result"
    }
   ],
   "source": [
    "say_hello()"
   ]
  },
  {
   "cell_type": "code",
   "execution_count": 16,
   "metadata": {},
   "outputs": [
    {
     "data": {
      "text/plain": [
       "'GOODBYE THERE'"
      ]
     },
     "execution_count": 16,
     "metadata": {},
     "output_type": "execute_result"
    }
   ],
   "source": [
    "say_hello2()"
   ]
  },
  {
   "cell_type": "code",
   "execution_count": 24,
   "metadata": {},
   "outputs": [
    {
     "data": {
      "text/plain": [
       "36"
      ]
     },
     "execution_count": 24,
     "metadata": {},
     "output_type": "execute_result"
    }
   ],
   "source": [
    "# Create a decorator that will square a number from the output of the passed in function\n",
    "def num_square():\n",
    "    return 6\n",
    "\n",
    "def square_num(int):\n",
    "    def wrap():\n",
    "        inter = int()\n",
    "        square_int = inter**2\n",
    "        return square_int\n",
    "    return wrap\n",
    "return_function = square_num(num_square)\n",
    "return_function()"
   ]
  },
  {
   "cell_type": "code",
   "execution_count": 25,
   "metadata": {},
   "outputs": [
    {
     "data": {
      "text/plain": [
       "49"
      ]
     },
     "execution_count": 25,
     "metadata": {},
     "output_type": "execute_result"
    }
   ],
   "source": [
    "def square_args(func):\n",
    "    \n",
    "    def wrapper(a):\n",
    "        return func(a ** 2)\n",
    "    return wrapper\n",
    "\n",
    "@square_args\n",
    "def squar(a):\n",
    "    return a\n",
    "\n",
    "squar(7)"
   ]
  },
  {
   "cell_type": "markdown",
   "metadata": {},
   "source": [
    "## TwoSum Problem"
   ]
  },
  {
   "cell_type": "markdown",
   "metadata": {},
   "source": [
    "Given an array of integers, return the two numbers such that they add up to a specific target.\n",
    "\n",
    "You may assume that each input would have exactly one solution, and you may not use the same element twice."
   ]
  },
  {
   "cell_type": "code",
   "execution_count": 28,
   "metadata": {},
   "outputs": [
    {
     "data": {
      "text/plain": [
       "(1, 9)"
      ]
     },
     "execution_count": 28,
     "metadata": {},
     "output_type": "execute_result"
    }
   ],
   "source": [
    "arr = [5, 1, 3, 9, 10, 6]\n",
    "target = 10\n",
    "def two_sum(array, target):\n",
    "    for i in range(len(array)):\n",
    "        for j in range(len(array)):\n",
    "            if array[i] + array[j] == target and j != i:\n",
    "                return array[i], array[j]\n",
    "two_sum([5, 1, 3, 9, 10, 6], 10)"
   ]
  },
  {
   "cell_type": "code",
   "execution_count": 30,
   "metadata": {},
   "outputs": [
    {
     "data": {
      "text/plain": [
       "(9, 10)"
      ]
     },
     "execution_count": 30,
     "metadata": {},
     "output_type": "execute_result"
    }
   ],
   "source": [
    "# two pointer solution -> Constant Spance and linear Logarithmic O(n log n)\n",
    "def twoPointerSum(array, target):\n",
    "    array.sort()\n",
    "    left = 0\n",
    "    right = len(array) -1\n",
    "    \n",
    "    while left < right:\n",
    "        if array[left] + array[right] == target:\n",
    "            return array[left], array[right]\n",
    "        elif array[left] + array[right] > target:\n",
    "            right -= 1\n",
    "        else:\n",
    "            left += 1\n",
    "    return -1\n",
    "twoPointerSum([5, 1, 3, 9, 10, 6], 19)"
   ]
  },
  {
   "cell_type": "code",
   "execution_count": 32,
   "metadata": {},
   "outputs": [
    {
     "data": {
      "text/plain": [
       "(1, 9)"
      ]
     },
     "execution_count": 32,
     "metadata": {},
     "output_type": "execute_result"
    }
   ],
   "source": [
    "#two sum dictionary - linear twim O(n) Linear space O(n)\n",
    "\n",
    "arr = [5, 1, 3, 9, 10, 6]\n",
    "target = 10\n",
    "def two_sum_dict(arr, target):\n",
    "    my_dict = {}\n",
    "    \n",
    "    match = 0\n",
    "    for num in arr:\n",
    "        match = target - num\n",
    "        if match not in my_dict:\n",
    "            my_dict[num] = num\n",
    "        else:\n",
    "                return match, num\n",
    "two_sum_dict([5, 1, 3, 9, 10, 6], 10)"
   ]
  },
  {
   "cell_type": "code",
   "execution_count": null,
   "metadata": {},
   "outputs": [],
   "source": [
    "# In Python, the space complexity of an algorithm can be quadratic if the algorithm uses a nested loop and \n",
    "# creates a new data structure for each iteration of the outer loop, and the size of the new data structure is \n",
    "# proportional to the number of iterations of the inner loop. For example, a nested loop that creates a new list \n",
    "# for each iteration of the outer loop, and appends to the list for each iteration of the inner loop, would have a \n",
    "# space complexity of O(n^2), where n is the number of iterations of the outer loop.\""
   ]
  },
  {
   "cell_type": "code",
   "execution_count": null,
   "metadata": {},
   "outputs": [],
   "source": [
    "arr = [5,1,3,9,10,6]\n",
    "arr2 = [1,2,3,4,5,6]\n",
    "#for num in arr:\n",
    "#    my_list"
   ]
  },
  {
   "cell_type": "code",
   "execution_count": 33,
   "metadata": {},
   "outputs": [
    {
     "name": "stdout",
     "output_type": "stream",
     "text": [
      "[[0], [0, 0], [0, 0, 0], [0, 0, 0, 0], [0, 0, 0, 0, 0], [0, 0, 0, 0, 0, 0]]\n"
     ]
    }
   ],
   "source": [
    "arr2 = [1,2,3,4,5,6]\n",
    "my_list = [[0]*num for num in arr2]\n",
    "print(my_list)"
   ]
  },
  {
   "cell_type": "code",
   "execution_count": null,
   "metadata": {},
   "outputs": [],
   "source": []
  }
 ],
 "metadata": {
  "kernelspec": {
   "display_name": "Python 3 (ipykernel)",
   "language": "python",
   "name": "python3"
  },
  "language_info": {
   "codemirror_mode": {
    "name": "ipython",
    "version": 3
   },
   "file_extension": ".py",
   "mimetype": "text/x-python",
   "name": "python",
   "nbconvert_exporter": "python",
   "pygments_lexer": "ipython3",
   "version": "3.9.13"
  }
 },
 "nbformat": 4,
 "nbformat_minor": 2
}
